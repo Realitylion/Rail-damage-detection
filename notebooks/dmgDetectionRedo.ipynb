{
 "cells": [
  {
   "cell_type": "code",
   "execution_count": 45,
   "id": "da40988f-8a00-4198-adf1-c828739108ac",
   "metadata": {},
   "outputs": [],
   "source": [
    "import tensorflow as tf\n",
    "from tensorflow.keras.applications import ResNet50, VGG16, DenseNet121, MobileNetV2\n",
    "from tensorflow.keras.preprocessing.image import ImageDataGenerator\n",
    "from tensorflow.keras.layers import Flatten, Dense\n",
    "from tensorflow.keras.models import Model\n",
    "from tensorflow.keras.optimizers import Adam\n",
    "from sklearn.metrics import confusion_matrix, classification_report\n",
    "import numpy as np\n",
    "import matplotlib.pyplot as plt\n",
    "import seaborn as sns"
   ]
  },
  {
   "cell_type": "markdown",
   "id": "8b911de9",
   "metadata": {},
   "source": [
    "### Function to Create Model\n"
   ]
  },
  {
   "cell_type": "code",
   "execution_count": 8,
   "id": "74e9eb34",
   "metadata": {},
   "outputs": [],
   "source": [
    "def create_model(base_model, input_shape=(224, 224, 3), num_classes=2):\n",
    "    base_model.trainable = False\n",
    "    x = Flatten()(base_model.output)\n",
    "    x = Dense(512, activation='relu')(x)\n",
    "    x = Dense(num_classes, activation='softmax')(x)\n",
    "    model = Model(inputs=base_model.input, outputs=x)\n",
    "    model.compile(optimizer=Adam(learning_rate=1e-4), loss='categorical_crossentropy', metrics=['accuracy'])\n",
    "    return model"
   ]
  },
  {
   "cell_type": "markdown",
   "id": "f8f02f2a",
   "metadata": {},
   "source": [
    "### Data Generators\n"
   ]
  },
  {
   "cell_type": "code",
   "execution_count": 18,
   "id": "c9f2888d",
   "metadata": {},
   "outputs": [
    {
     "name": "stdout",
     "output_type": "stream",
     "text": [
      "Found 10771 images belonging to 2 classes.\n",
      "Found 1345 images belonging to 2 classes.\n",
      "Found 1348 images belonging to 2 classes.\n"
     ]
    }
   ],
   "source": [
    "train_datagen = ImageDataGenerator(rescale=1./255, horizontal_flip=True, zoom_range=0.2)\n",
    "val_datagen = ImageDataGenerator(rescale=1./255)\n",
    "test_datagen = ImageDataGenerator(rescale=1./255)\n",
    "\n",
    "\"\"\"train_generator_bin = train_datagen.flow_from_directory(\n",
    "    'dataset/train',\n",
    "    target_size=(224, 224),\n",
    "    batch_size=32,\n",
    "    class_mode='binary'\n",
    ")\n",
    "\n",
    "val_generator_bin = val_datagen.flow_from_directory(\n",
    "    'dataset/val',\n",
    "    target_size=(224, 224),\n",
    "    batch_size=32,\n",
    "    class_mode='binary'\n",
    ")\n",
    "\n",
    "test_generator_bin = test_datagen.flow_from_directory(\n",
    "    'dataset/test',\n",
    "    target_size=(224, 224),\n",
    "    batch_size=32,\n",
    "    class_mode='binary'\n",
    ")\"\"\"\n",
    "\n",
    "train_generator_cat = train_datagen.flow_from_directory(\n",
    "    r'E:\\Programing\\ML\\Rail-damage-detection\\dataset\\dataset_split\\train',\n",
    "    target_size=(224, 224),\n",
    "    batch_size=32,\n",
    "    class_mode='categorical'\n",
    ")\n",
    "\n",
    "val_generator_cat = val_datagen.flow_from_directory(\n",
    "    r'E:\\Programing\\ML\\Rail-damage-detection\\dataset\\dataset_split\\val',\n",
    "    target_size=(224, 224),\n",
    "    batch_size=32,\n",
    "    class_mode='categorical'\n",
    ")\n",
    "\n",
    "test_generator_cat = test_datagen.flow_from_directory(\n",
    "   r'E:\\Programing\\ML\\Rail-damage-detection\\dataset\\dataset_split\\test',\n",
    "    target_size=(224, 224),\n",
    "    batch_size=32,\n",
    "    class_mode='categorical',\n",
    "    shuffle = False\n",
    ")\n",
    "\n"
   ]
  },
  {
   "cell_type": "markdown",
   "id": "d0a88719",
   "metadata": {},
   "source": [
    "## ResNet50\n"
   ]
  },
  {
   "cell_type": "code",
   "execution_count": 19,
   "id": "a9602e5e",
   "metadata": {},
   "outputs": [
    {
     "name": "stdout",
     "output_type": "stream",
     "text": [
      "Epoch 1/10\n"
     ]
    },
    {
     "name": "stderr",
     "output_type": "stream",
     "text": [
      "e:\\Programing\\ML\\ml-venv\\lib\\site-packages\\keras\\src\\trainers\\data_adapters\\py_dataset_adapter.py:121: UserWarning: Your `PyDataset` class should call `super().__init__(**kwargs)` in its constructor. `**kwargs` can include `workers`, `use_multiprocessing`, `max_queue_size`. Do not pass these arguments to `fit()`, as they will be ignored.\n",
      "  self._warn_if_super_not_called()\n"
     ]
    },
    {
     "name": "stdout",
     "output_type": "stream",
     "text": [
      "\u001b[1m337/337\u001b[0m \u001b[32m━━━━━━━━━━━━━━━━━━━━\u001b[0m\u001b[37m\u001b[0m \u001b[1m782s\u001b[0m 2s/step - accuracy: 0.8148 - loss: 0.6439 - val_accuracy: 0.9152 - val_loss: 0.2070\n",
      "Epoch 2/10\n",
      "\u001b[1m337/337\u001b[0m \u001b[32m━━━━━━━━━━━━━━━━━━━━\u001b[0m\u001b[37m\u001b[0m \u001b[1m808s\u001b[0m 2s/step - accuracy: 0.9154 - loss: 0.2124 - val_accuracy: 0.9108 - val_loss: 0.2091\n",
      "Epoch 3/10\n",
      "\u001b[1m337/337\u001b[0m \u001b[32m━━━━━━━━━━━━━━━━━━━━\u001b[0m\u001b[37m\u001b[0m \u001b[1m793s\u001b[0m 2s/step - accuracy: 0.9326 - loss: 0.1793 - val_accuracy: 0.9056 - val_loss: 0.2418\n",
      "Epoch 4/10\n",
      "\u001b[1m337/337\u001b[0m \u001b[32m━━━━━━━━━━━━━━━━━━━━\u001b[0m\u001b[37m\u001b[0m \u001b[1m791s\u001b[0m 2s/step - accuracy: 0.9436 - loss: 0.1498 - val_accuracy: 0.8743 - val_loss: 0.4516\n",
      "Epoch 5/10\n",
      "\u001b[1m337/337\u001b[0m \u001b[32m━━━━━━━━━━━━━━━━━━━━\u001b[0m\u001b[37m\u001b[0m \u001b[1m755s\u001b[0m 2s/step - accuracy: 0.9164 - loss: 0.2134 - val_accuracy: 0.9316 - val_loss: 0.1785\n",
      "Epoch 6/10\n",
      "\u001b[1m337/337\u001b[0m \u001b[32m━━━━━━━━━━━━━━━━━━━━\u001b[0m\u001b[37m\u001b[0m \u001b[1m755s\u001b[0m 2s/step - accuracy: 0.9487 - loss: 0.1339 - val_accuracy: 0.9524 - val_loss: 0.1270\n",
      "Epoch 7/10\n",
      "\u001b[1m337/337\u001b[0m \u001b[32m━━━━━━━━━━━━━━━━━━━━\u001b[0m\u001b[37m\u001b[0m \u001b[1m743s\u001b[0m 2s/step - accuracy: 0.9518 - loss: 0.1263 - val_accuracy: 0.9680 - val_loss: 0.0854\n",
      "Epoch 8/10\n",
      "\u001b[1m337/337\u001b[0m \u001b[32m━━━━━━━━━━━━━━━━━━━━\u001b[0m\u001b[37m\u001b[0m \u001b[1m768s\u001b[0m 2s/step - accuracy: 0.9620 - loss: 0.1057 - val_accuracy: 0.9688 - val_loss: 0.0864\n",
      "Epoch 9/10\n",
      "\u001b[1m337/337\u001b[0m \u001b[32m━━━━━━━━━━━━━━━━━━━━\u001b[0m\u001b[37m\u001b[0m \u001b[1m758s\u001b[0m 2s/step - accuracy: 0.9624 - loss: 0.1108 - val_accuracy: 0.9732 - val_loss: 0.0818\n",
      "Epoch 10/10\n",
      "\u001b[1m337/337\u001b[0m \u001b[32m━━━━━━━━━━━━━━━━━━━━\u001b[0m\u001b[37m\u001b[0m \u001b[1m797s\u001b[0m 2s/step - accuracy: 0.9597 - loss: 0.1052 - val_accuracy: 0.9309 - val_loss: 0.2028\n",
      "\u001b[1m43/43\u001b[0m \u001b[32m━━━━━━━━━━━━━━━━━━━━\u001b[0m\u001b[37m\u001b[0m \u001b[1m68s\u001b[0m 2s/step - accuracy: 0.9337 - loss: 0.1873\n",
      "\u001b[1m43/43\u001b[0m \u001b[32m━━━━━━━━━━━━━━━━━━━━\u001b[0m\u001b[37m\u001b[0m \u001b[1m68s\u001b[0m 2s/step - accuracy: 0.9414 - loss: 0.1869\n",
      "ResNet - Validation Loss: 0.20277294516563416, Validation Accuracy: 0.9308550357818604\n",
      "ResNet - Test Loss: 0.21089333295822144, Test Accuracy: 0.9324925541877747\n"
     ]
    }
   ],
   "source": [
    "# Load the ResNet50 model with pretrained weights\n",
    "resnet_base = ResNet50(weights='imagenet', include_top=False, input_shape=(224, 224, 3))\n",
    "resnet_model = create_model(resnet_base)\n",
    "\n",
    "# Train the model\n",
    "resnet_history = resnet_model.fit(train_generator_cat, epochs=10, validation_data=val_generator_cat)\n",
    "\n",
    "# Evaluate the model on the validation and test data\n",
    "resnet_val_loss, resnet_val_acc = resnet_model.evaluate(val_generator_cat)\n",
    "resnet_test_loss, resnet_test_acc = resnet_model.evaluate(test_generator_cat)\n",
    "\n",
    "# Print the results\n",
    "print(f\"ResNet - Validation Loss: {resnet_val_loss}, Validation Accuracy: {resnet_val_acc}\")\n",
    "print(f\"ResNet - Test Loss: {resnet_test_loss}, Test Accuracy: {resnet_test_acc}\")\n"
   ]
  },
  {
   "cell_type": "markdown",
   "id": "35818c71",
   "metadata": {},
   "source": [
    "### Saving the Model\n"
   ]
  },
  {
   "cell_type": "code",
   "execution_count": 44,
   "id": "bd3d10ed",
   "metadata": {},
   "outputs": [
    {
     "name": "stderr",
     "output_type": "stream",
     "text": [
      "WARNING:absl:You are saving your model as an HDF5 file via `model.save()` or `keras.saving.save_model(model)`. This file format is considered legacy. We recommend using instead the native Keras format, e.g. `model.save('my_model.keras')` or `keras.saving.save_model(model, 'my_model.keras')`. \n"
     ]
    }
   ],
   "source": [
    "resnet_model.save(r'E:\\Programing\\ML\\Rail-damage-detection\\models\\v2\\resnet_model.h5')"
   ]
  },
  {
   "cell_type": "code",
   "execution_count": 22,
   "id": "54277a6f",
   "metadata": {},
   "outputs": [
    {
     "name": "stdout",
     "output_type": "stream",
     "text": [
      "\u001b[1m43/43\u001b[0m \u001b[32m━━━━━━━━━━━━━━━━━━━━\u001b[0m\u001b[37m\u001b[0m \u001b[1m68s\u001b[0m 2s/step\n"
     ]
    }
   ],
   "source": [
    "# Make predictions on the test set\n",
    "test_steps_per_epoch = np.math.ceil(test_generator_cat.samples / test_generator_cat.batch_size)\n",
    "predictions = resnet_model.predict(test_generator_cat, steps=test_steps_per_epoch)\n",
    "predicted_classes = np.argmax(predictions, axis=1)\n",
    "true_classes = test_generator_cat.classes\n",
    "class_labels = list(test_generator_cat.class_indices.keys())"
   ]
  },
  {
   "cell_type": "markdown",
   "id": "265e770c",
   "metadata": {},
   "source": [
    "### Confusion Matrix\n"
   ]
  },
  {
   "cell_type": "code",
   "execution_count": 23,
   "id": "cb9668ae",
   "metadata": {},
   "outputs": [
    {
     "data": {
      "image/png": "[encoded data removed]",
      "text/plain": [
       "<Figure size 1000x800 with 2 Axes>"
      ]
     },
     "metadata": {},
     "output_type": "display_data"
    }
   ],
   "source": [
    "conf_matrix = confusion_matrix(true_classes, predicted_classes)\n",
    "plt.figure(figsize=(10, 8))\n",
    "sns.heatmap(conf_matrix, annot=True, fmt='d', cmap='Blues', xticklabels=class_labels, yticklabels=class_labels)\n",
    "plt.xlabel('Predicted')\n",
    "plt.ylabel('True')\n",
    "plt.title('Confusion Matrix')\n",
    "plt.show()"
   ]
  },
  {
   "cell_type": "code",
   "execution_count": 24,
   "id": "15bbd636",
   "metadata": {},
   "outputs": [
    {
     "name": "stdout",
     "output_type": "stream",
     "text": [
      "Classification Report\n",
      "               precision    recall  f1-score   support\n",
      "\n",
      "    defective       1.00      0.86      0.93       673\n",
      "non-defective       0.88      1.00      0.94       675\n",
      "\n",
      "     accuracy                           0.93      1348\n",
      "    macro avg       0.94      0.93      0.93      1348\n",
      " weighted avg       0.94      0.93      0.93      1348\n",
      "\n"
     ]
    }
   ],
   "source": [
    "# Classification report\n",
    "report = classification_report(true_classes, predicted_classes, target_names=class_labels)\n",
    "print('Classification Report')\n",
    "print(report)"
   ]
  },
  {
   "cell_type": "markdown",
   "id": "54036bbf",
   "metadata": {},
   "source": [
    "## VGG16\n"
   ]
  },
  {
   "cell_type": "code",
   "execution_count": 26,
   "id": "c547bb30",
   "metadata": {},
   "outputs": [
    {
     "name": "stdout",
     "output_type": "stream",
     "text": [
      "Epoch 1/10\n",
      "\u001b[1m337/337\u001b[0m \u001b[32m━━━━━━━━━━━━━━━━━━━━\u001b[0m\u001b[37m\u001b[0m \u001b[1m785s\u001b[0m 2s/step - accuracy: 0.9338 - loss: 0.1563 - val_accuracy: 0.9836 - val_loss: 0.0371\n",
      "Epoch 2/10\n",
      "\u001b[1m337/337\u001b[0m \u001b[32m━━━━━━━━━━━━━━━━━━━━\u001b[0m\u001b[37m\u001b[0m \u001b[1m770s\u001b[0m 2s/step - accuracy: 0.9878 - loss: 0.0322 - val_accuracy: 0.9948 - val_loss: 0.0124\n",
      "Epoch 3/10\n",
      "\u001b[1m337/337\u001b[0m \u001b[32m━━━━━━━━━━━━━━━━━━━━\u001b[0m\u001b[37m\u001b[0m \u001b[1m773s\u001b[0m 2s/step - accuracy: 0.9938 - loss: 0.0162 - val_accuracy: 0.9918 - val_loss: 0.0183\n",
      "Epoch 4/10\n",
      "\u001b[1m337/337\u001b[0m \u001b[32m━━━━━━━━━━━━━━━━━━━━\u001b[0m\u001b[37m\u001b[0m \u001b[1m810s\u001b[0m 2s/step - accuracy: 0.9951 - loss: 0.0127 - val_accuracy: 0.9963 - val_loss: 0.0118\n",
      "Epoch 5/10\n",
      "\u001b[1m337/337\u001b[0m \u001b[32m━━━━━━━━━━━━━━━━━━━━\u001b[0m\u001b[37m\u001b[0m \u001b[1m799s\u001b[0m 2s/step - accuracy: 0.9953 - loss: 0.0139 - val_accuracy: 0.9933 - val_loss: 0.0237\n",
      "Epoch 6/10\n",
      "\u001b[1m337/337\u001b[0m \u001b[32m━━━━━━━━━━━━━━━━━━━━\u001b[0m\u001b[37m\u001b[0m \u001b[1m767s\u001b[0m 2s/step - accuracy: 0.9982 - loss: 0.0066 - val_accuracy: 0.9911 - val_loss: 0.0231\n",
      "Epoch 7/10\n",
      "\u001b[1m337/337\u001b[0m \u001b[32m━━━━━━━━━━━━━━━━━━━━\u001b[0m\u001b[37m\u001b[0m \u001b[1m786s\u001b[0m 2s/step - accuracy: 0.9982 - loss: 0.0074 - val_accuracy: 0.9829 - val_loss: 0.0648\n",
      "Epoch 8/10\n",
      "\u001b[1m337/337\u001b[0m \u001b[32m━━━━━━━━━━━━━━━━━━━━\u001b[0m\u001b[37m\u001b[0m \u001b[1m783s\u001b[0m 2s/step - accuracy: 0.9917 - loss: 0.0205 - val_accuracy: 0.9933 - val_loss: 0.0204\n",
      "Epoch 9/10\n",
      "\u001b[1m337/337\u001b[0m \u001b[32m━━━━━━━━━━━━━━━━━━━━\u001b[0m\u001b[37m\u001b[0m \u001b[1m794s\u001b[0m 2s/step - accuracy: 0.9953 - loss: 0.0090 - val_accuracy: 0.9896 - val_loss: 0.0374\n",
      "Epoch 10/10\n",
      "\u001b[1m337/337\u001b[0m \u001b[32m━━━━━━━━━━━━━━━━━━━━\u001b[0m\u001b[37m\u001b[0m \u001b[1m808s\u001b[0m 2s/step - accuracy: 0.9933 - loss: 0.0163 - val_accuracy: 0.9941 - val_loss: 0.0170\n",
      "\u001b[1m43/43\u001b[0m \u001b[32m━━━━━━━━━━━━━━━━━━━━\u001b[0m\u001b[37m\u001b[0m \u001b[1m85s\u001b[0m 2s/step - accuracy: 0.9933 - loss: 0.0221\n",
      "\u001b[1m43/43\u001b[0m \u001b[32m━━━━━━━━━━━━━━━━━━━━\u001b[0m\u001b[37m\u001b[0m \u001b[1m86s\u001b[0m 2s/step - accuracy: 0.9981 - loss: 0.0033\n",
      "VGG - Validation Loss: 0.01701187901198864, Validation Accuracy: 0.9940520524978638\n",
      "VGG - Test Loss: 0.009067177772521973, Test Accuracy: 0.9955489635467529\n"
     ]
    }
   ],
   "source": [
    "vgg_base = VGG16(weights='imagenet', include_top=False, input_shape=(224, 224, 3))\n",
    "vgg_model = create_model(vgg_base)\n",
    "vgg_history = vgg_model.fit(train_generator_cat, epochs=10, validation_data=val_generator_cat)\n",
    "vgg_val_loss, vgg_val_acc = vgg_model.evaluate(val_generator_cat)\n",
    "vgg_test_loss, vgg_test_acc = vgg_model.evaluate(test_generator_cat)\n",
    "print(f\"VGG - Validation Loss: {vgg_val_loss}, Validation Accuracy: {vgg_val_acc}\")\n",
    "print(f\"VGG - Test Loss: {vgg_test_loss}, Test Accuracy: {vgg_test_acc}\")"
   ]
  },
  {
   "cell_type": "markdown",
   "id": "c4431790",
   "metadata": {
    "vscode": {
     "languageId": "bat"
    }
   },
   "source": [
    "### Saving the Model\n"
   ]
  },
  {
   "cell_type": "code",
   "execution_count": 37,
   "id": "b41bfe4d",
   "metadata": {},
   "outputs": [],
   "source": [
    "vgg_model.save(r'E:\\Programing\\ML\\Rail-damage-detection\\models\\v2\\vgg_model.keras')"
   ]
  },
  {
   "cell_type": "code",
   "execution_count": 29,
   "id": "d76934c8",
   "metadata": {},
   "outputs": [
    {
     "name": "stdout",
     "output_type": "stream",
     "text": [
      "\u001b[1m43/43\u001b[0m \u001b[32m━━━━━━━━━━━━━━━━━━━━\u001b[0m\u001b[37m\u001b[0m \u001b[1m137s\u001b[0m 3s/step\n"
     ]
    }
   ],
   "source": [
    "# Make predictions on the test set\n",
    "test_steps_per_epoch = np.math.ceil(test_generator_cat.samples / test_generator_cat.batch_size)\n",
    "vgg_predictions = vgg_model.predict(test_generator_cat, steps=test_steps_per_epoch)\n",
    "vgg_predicted_classes = np.argmax(vgg_predictions, axis=1)\n",
    "vgg_true_classes = test_generator_cat.classes\n",
    "class_labels = list(test_generator_cat.class_indices.keys())"
   ]
  },
  {
   "cell_type": "markdown",
   "id": "414b0ae5",
   "metadata": {},
   "source": [
    "### Confusion Matrix\n"
   ]
  },
  {
   "cell_type": "code",
   "execution_count": 30,
   "id": "bb407b6a",
   "metadata": {},
   "outputs": [
    {
     "data": {
      "image/png": "[encoded data removed]",
      "text/plain": [
       "<Figure size 1000x800 with 2 Axes>"
      ]
     },
     "metadata": {},
     "output_type": "display_data"
    }
   ],
   "source": [
    "vgg_conf_matrix = confusion_matrix(vgg_true_classes, vgg_predicted_classes)\n",
    "plt.figure(figsize=(10, 8))\n",
    "sns.heatmap(vgg_conf_matrix, annot=True, fmt='d', cmap='Blues', xticklabels=class_labels, yticklabels=class_labels)\n",
    "plt.xlabel('Predicted')\n",
    "plt.ylabel('True')\n",
    "plt.title('VGG16 Confusion Matrix')\n",
    "plt.show()"
   ]
  },
  {
   "cell_type": "code",
   "execution_count": 31,
   "id": "47723320",
   "metadata": {},
   "outputs": [
    {
     "name": "stdout",
     "output_type": "stream",
     "text": [
      "VGG16 Classification Report\n",
      "               precision    recall  f1-score   support\n",
      "\n",
      "    defective       1.00      1.00      1.00       673\n",
      "non-defective       1.00      1.00      1.00       675\n",
      "\n",
      "     accuracy                           1.00      1348\n",
      "    macro avg       1.00      1.00      1.00      1348\n",
      " weighted avg       1.00      1.00      1.00      1348\n",
      "\n"
     ]
    }
   ],
   "source": [
    "vgg_report = classification_report(vgg_true_classes, vgg_predicted_classes, target_names=class_labels)\n",
    "print('VGG16 Classification Report')\n",
    "print(vgg_report)"
   ]
  },
  {
   "cell_type": "markdown",
   "id": "0f4aea58",
   "metadata": {},
   "source": [
    "### DenseNet\n"
   ]
  },
  {
   "cell_type": "code",
   "execution_count": 33,
   "id": "3d3a32be",
   "metadata": {},
   "outputs": [
    {
     "name": "stdout",
     "output_type": "stream",
     "text": [
      "Epoch 1/10\n",
      "\u001b[1m337/337\u001b[0m \u001b[32m━━━━━━━━━━━━━━━━━━━━\u001b[0m\u001b[37m\u001b[0m \u001b[1m796s\u001b[0m 2s/step - accuracy: 0.9383 - loss: 0.3627 - val_accuracy: 0.9933 - val_loss: 0.0174\n",
      "Epoch 2/10\n",
      "\u001b[1m337/337\u001b[0m \u001b[32m━━━━━━━━━━━━━━━━━━━━\u001b[0m\u001b[37m\u001b[0m \u001b[1m779s\u001b[0m 2s/step - accuracy: 0.9896 - loss: 0.0271 - val_accuracy: 0.9941 - val_loss: 0.0161\n",
      "Epoch 3/10\n",
      "\u001b[1m337/337\u001b[0m \u001b[32m━━━━━━━━━━━━━━━━━━━━\u001b[0m\u001b[37m\u001b[0m \u001b[1m778s\u001b[0m 2s/step - accuracy: 0.9917 - loss: 0.0234 - val_accuracy: 0.9926 - val_loss: 0.0254\n",
      "Epoch 4/10\n",
      "\u001b[1m337/337\u001b[0m \u001b[32m━━━━━━━━━━━━━━━━━━━━\u001b[0m\u001b[37m\u001b[0m \u001b[1m777s\u001b[0m 2s/step - accuracy: 0.9916 - loss: 0.0281 - val_accuracy: 0.9918 - val_loss: 0.0246\n",
      "Epoch 5/10\n",
      "\u001b[1m337/337\u001b[0m \u001b[32m━━━━━━━━━━━━━━━━━━━━\u001b[0m\u001b[37m\u001b[0m \u001b[1m776s\u001b[0m 2s/step - accuracy: 0.9968 - loss: 0.0090 - val_accuracy: 0.9933 - val_loss: 0.0214\n",
      "Epoch 6/10\n",
      "\u001b[1m337/337\u001b[0m \u001b[32m━━━━━━━━━━━━━━━━━━━━\u001b[0m\u001b[37m\u001b[0m \u001b[1m775s\u001b[0m 2s/step - accuracy: 0.9965 - loss: 0.0108 - val_accuracy: 0.9941 - val_loss: 0.0183\n",
      "Epoch 7/10\n",
      "\u001b[1m337/337\u001b[0m \u001b[32m━━━━━━━━━━━━━━━━━━━━\u001b[0m\u001b[37m\u001b[0m \u001b[1m777s\u001b[0m 2s/step - accuracy: 0.9960 - loss: 0.0073 - val_accuracy: 0.9933 - val_loss: 0.0324\n",
      "Epoch 8/10\n",
      "\u001b[1m337/337\u001b[0m \u001b[32m━━━━━━━━━━━━━━━━━━━━\u001b[0m\u001b[37m\u001b[0m \u001b[1m776s\u001b[0m 2s/step - accuracy: 0.9929 - loss: 0.0249 - val_accuracy: 0.9963 - val_loss: 0.0162\n",
      "Epoch 9/10\n",
      "\u001b[1m337/337\u001b[0m \u001b[32m━━━━━━━━━━━━━━━━━━━━\u001b[0m\u001b[37m\u001b[0m \u001b[1m776s\u001b[0m 2s/step - accuracy: 0.9970 - loss: 0.0085 - val_accuracy: 0.9970 - val_loss: 0.0161\n",
      "Epoch 10/10\n",
      "\u001b[1m337/337\u001b[0m \u001b[32m━━━━━━━━━━━━━━━━━━━━\u001b[0m\u001b[37m\u001b[0m \u001b[1m779s\u001b[0m 2s/step - accuracy: 0.9961 - loss: 0.0109 - val_accuracy: 0.9933 - val_loss: 0.0235\n",
      "\u001b[1m43/43\u001b[0m \u001b[32m━━━━━━━━━━━━━━━━━━━━\u001b[0m\u001b[37m\u001b[0m \u001b[1m73s\u001b[0m 2s/step - accuracy: 0.9954 - loss: 0.0180\n",
      "\u001b[1m43/43\u001b[0m \u001b[32m━━━━━━━━━━━━━━━━━━━━\u001b[0m\u001b[37m\u001b[0m \u001b[1m81s\u001b[0m 2s/step - accuracy: 0.9993 - loss: 0.0032\n",
      "DenseNet - Validation Loss: 0.023459916934370995, Validation Accuracy: 0.9933085441589355\n",
      "DenseNet - Test Loss: 0.030655518174171448, Test Accuracy: 0.9933234453201294\n"
     ]
    }
   ],
   "source": [
    "densenet_base = DenseNet121(weights='imagenet', include_top=False, input_shape=(224, 224, 3))\n",
    "densenet_model = create_model(densenet_base)\n",
    "densenet_history = densenet_model.fit(train_generator_cat, epochs=10, validation_data=val_generator_cat)\n",
    "densenet_val_loss, densenet_val_acc = densenet_model.evaluate(val_generator_cat)\n",
    "densenet_test_loss, densenet_test_acc = densenet_model.evaluate(test_generator_cat)\n",
    "print(f\"DenseNet - Validation Loss: {densenet_val_loss}, Validation Accuracy: {densenet_val_acc}\")\n",
    "print(f\"DenseNet - Test Loss: {densenet_test_loss}, Test Accuracy: {densenet_test_acc}\")"
   ]
  },
  {
   "cell_type": "markdown",
   "id": "5c516b21",
   "metadata": {},
   "source": [
    "### Saving the Model\n"
   ]
  },
  {
   "cell_type": "code",
   "execution_count": 41,
   "id": "cfaaeb68",
   "metadata": {},
   "outputs": [],
   "source": [
    "densenet_model.save_weights(r'E:\\Programing\\ML\\Rail-damage-detection\\models\\v2\\densenet_model.weights.h5')"
   ]
  },
  {
   "cell_type": "code",
   "execution_count": 36,
   "id": "201ddf42",
   "metadata": {},
   "outputs": [
    {
     "name": "stdout",
     "output_type": "stream",
     "text": [
      "\u001b[1m43/43\u001b[0m \u001b[32m━━━━━━━━━━━━━━━━━━━━\u001b[0m\u001b[37m\u001b[0m \u001b[1m81s\u001b[0m 2s/step\n"
     ]
    }
   ],
   "source": [
    "# Make predictions with DenseNet model\n",
    "densenet_predictions = densenet_model.predict(test_generator_cat)\n",
    "densenet_predicted_classes = np.argmax(densenet_predictions, axis=1)\n",
    "densenet_true_classes = test_generator_cat.classes"
   ]
  },
  {
   "cell_type": "markdown",
   "id": "69ed78cf",
   "metadata": {},
   "source": [
    "### Confusion Matrix\n"
   ]
  },
  {
   "cell_type": "code",
   "execution_count": 38,
   "id": "b6d66bd6",
   "metadata": {},
   "outputs": [
    {
     "data": {
      "image/png": "[encoded data removed]",
      "text/plain": [
       "<Figure size 1000x800 with 2 Axes>"
      ]
     },
     "metadata": {},
     "output_type": "display_data"
    }
   ],
   "source": [
    "densenet_conf_matrix = confusion_matrix(densenet_true_classes, densenet_predicted_classes)\n",
    "plt.figure(figsize=(10, 8))\n",
    "sns.heatmap(densenet_conf_matrix, annot=True, fmt='d', cmap='Blues', xticklabels=class_labels, yticklabels=class_labels)\n",
    "plt.xlabel('Predicted')\n",
    "plt.ylabel('True')\n",
    "plt.title('DenseNet Confusion Matrix')\n",
    "plt.show()"
   ]
  },
  {
   "cell_type": "code",
   "execution_count": 39,
   "id": "3f9627fb",
   "metadata": {},
   "outputs": [
    {
     "name": "stdout",
     "output_type": "stream",
     "text": [
      "DenseNet Classification Report\n",
      "               precision    recall  f1-score   support\n",
      "\n",
      "    defective       0.99      1.00      0.99       673\n",
      "non-defective       1.00      0.99      0.99       675\n",
      "\n",
      "     accuracy                           0.99      1348\n",
      "    macro avg       0.99      0.99      0.99      1348\n",
      " weighted avg       0.99      0.99      0.99      1348\n",
      "\n"
     ]
    }
   ],
   "source": [
    "# Classification report for DenseNet\n",
    "densenet_report = classification_report(densenet_true_classes, densenet_predicted_classes, target_names=class_labels)\n",
    "print('DenseNet Classification Report')\n",
    "print(densenet_report)"
   ]
  },
  {
   "cell_type": "markdown",
   "id": "5eaca50d",
   "metadata": {},
   "source": [
    "### MobileNet\n"
   ]
  },
  {
   "cell_type": "code",
   "execution_count": 48,
   "id": "3c483458",
   "metadata": {},
   "outputs": [
    {
     "name": "stdout",
     "output_type": "stream",
     "text": [
      "Epoch 1/5\n",
      "\u001b[1m337/337\u001b[0m \u001b[32m━━━━━━━━━━━━━━━━━━━━\u001b[0m\u001b[37m\u001b[0m \u001b[1m511s\u001b[0m 1s/step - accuracy: 0.9566 - loss: 0.2407 - val_accuracy: 0.9911 - val_loss: 0.0212\n",
      "Epoch 2/5\n",
      "\u001b[1m337/337\u001b[0m \u001b[32m━━━━━━━━━━━━━━━━━━━━\u001b[0m\u001b[37m\u001b[0m \u001b[1m495s\u001b[0m 1s/step - accuracy: 0.9896 - loss: 0.0372 - val_accuracy: 0.9933 - val_loss: 0.0187\n",
      "Epoch 3/5\n",
      "\u001b[1m337/337\u001b[0m \u001b[32m━━━━━━━━━━━━━━━━━━━━\u001b[0m\u001b[37m\u001b[0m \u001b[1m491s\u001b[0m 1s/step - accuracy: 0.9921 - loss: 0.0345 - val_accuracy: 0.9970 - val_loss: 0.0080\n",
      "Epoch 4/5\n",
      "\u001b[1m337/337\u001b[0m \u001b[32m━━━━━━━━━━━━━━━━━━━━\u001b[0m\u001b[37m\u001b[0m \u001b[1m489s\u001b[0m 1s/step - accuracy: 0.9923 - loss: 0.0339 - val_accuracy: 0.9955 - val_loss: 0.0211\n",
      "Epoch 5/5\n",
      "\u001b[1m337/337\u001b[0m \u001b[32m━━━━━━━━━━━━━━━━━━━━\u001b[0m\u001b[37m\u001b[0m \u001b[1m489s\u001b[0m 1s/step - accuracy: 0.9958 - loss: 0.0149 - val_accuracy: 0.9926 - val_loss: 0.0349\n",
      "\u001b[1m43/43\u001b[0m \u001b[32m━━━━━━━━━━━━━━━━━━━━\u001b[0m\u001b[37m\u001b[0m \u001b[1m38s\u001b[0m 878ms/step - accuracy: 0.9895 - loss: 0.0567\n",
      "\u001b[1m43/43\u001b[0m \u001b[32m━━━━━━━━━━━━━━━━━━━━\u001b[0m\u001b[37m\u001b[0m \u001b[1m40s\u001b[0m 931ms/step - accuracy: 0.9972 - loss: 0.0153\n",
      "MobileNetV2 - Validation Loss: 0.03491658344864845, Validation Accuracy: 0.9925650358200073\n",
      "MobileNetV2 - Test Loss: 0.02165365032851696, Test Accuracy: 0.9955489635467529\n"
     ]
    }
   ],
   "source": [
    "# Create and train the MobileNetV2 model\n",
    "mobilenet_base = MobileNetV2(weights='imagenet', include_top=False, input_shape=(224, 224, 3))\n",
    "mobilenet_model = create_model(mobilenet_base)\n",
    "mobilenet_history = mobilenet_model.fit(train_generator_cat, epochs=5, validation_data=val_generator_cat)\n",
    "mobilenet_val_loss, mobilenet_val_acc = mobilenet_model.evaluate(val_generator_cat)\n",
    "mobilenet_test_loss, mobilenet_test_acc = mobilenet_model.evaluate(test_generator_cat)\n",
    "print(f\"MobileNetV2 - Validation Loss: {mobilenet_val_loss}, Validation Accuracy: {mobilenet_val_acc}\")\n",
    "print(f\"MobileNetV2 - Test Loss: {mobilenet_test_loss}, Test Accuracy: {mobilenet_test_acc}\")"
   ]
  },
  {
   "cell_type": "markdown",
   "id": "2d09daa1",
   "metadata": {},
   "source": [
    "### Saving the Model\n"
   ]
  },
  {
   "cell_type": "code",
   "execution_count": 53,
   "id": "adc804ee",
   "metadata": {},
   "outputs": [],
   "source": [
    "mobilenet_model.save(r'E:\\Programing\\ML\\Rail-damage-detection\\models\\v2\\mobilenet_model.keras')"
   ]
  },
  {
   "cell_type": "markdown",
   "id": "868befd4",
   "metadata": {},
   "source": [
    "### AlexNet\n"
   ]
  },
  {
   "cell_type": "code",
   "execution_count": 50,
   "id": "e74953d8",
   "metadata": {},
   "outputs": [
    {
     "name": "stderr",
     "output_type": "stream",
     "text": [
      "e:\\Programing\\ML\\ml-venv\\lib\\site-packages\\keras\\src\\layers\\convolutional\\base_conv.py:107: UserWarning: Do not pass an `input_shape`/`input_dim` argument to a layer. When using Sequential models, prefer using an `Input(shape)` object as the first layer in the model instead.\n",
      "  super().__init__(activity_regularizer=activity_regularizer, **kwargs)\n"
     ]
    },
    {
     "name": "stdout",
     "output_type": "stream",
     "text": [
      "Epoch 1/10\n",
      "\u001b[1m337/337\u001b[0m \u001b[32m━━━━━━━━━━━━━━━━━━━━\u001b[0m\u001b[37m\u001b[0m \u001b[1m520s\u001b[0m 2s/step - accuracy: 0.8383 - loss: 0.3049 - val_accuracy: 0.9807 - val_loss: 0.1055\n",
      "Epoch 2/10\n",
      "\u001b[1m337/337\u001b[0m \u001b[32m━━━━━━━━━━━━━━━━━━━━\u001b[0m\u001b[37m\u001b[0m \u001b[1m517s\u001b[0m 2s/step - accuracy: 0.9775 - loss: 0.0678 - val_accuracy: 0.9836 - val_loss: 0.0424\n",
      "Epoch 3/10\n",
      "\u001b[1m337/337\u001b[0m \u001b[32m━━━━━━━━━━━━━━━━━━━━\u001b[0m\u001b[37m\u001b[0m \u001b[1m514s\u001b[0m 2s/step - accuracy: 0.9795 - loss: 0.0664 - val_accuracy: 0.9911 - val_loss: 0.0317\n",
      "Epoch 4/10\n",
      "\u001b[1m337/337\u001b[0m \u001b[32m━━━━━━━━━━━━━━━━━━━━\u001b[0m\u001b[37m\u001b[0m \u001b[1m516s\u001b[0m 2s/step - accuracy: 0.9857 - loss: 0.0444 - val_accuracy: 0.9799 - val_loss: 0.0525\n",
      "Epoch 5/10\n",
      "\u001b[1m337/337\u001b[0m \u001b[32m━━━━━━━━━━━━━━━━━━━━\u001b[0m\u001b[37m\u001b[0m \u001b[1m513s\u001b[0m 2s/step - accuracy: 0.9836 - loss: 0.0520 - val_accuracy: 0.9822 - val_loss: 0.0661\n",
      "Epoch 6/10\n",
      "\u001b[1m337/337\u001b[0m \u001b[32m━━━━━━━━━━━━━━━━━━━━\u001b[0m\u001b[37m\u001b[0m \u001b[1m517s\u001b[0m 2s/step - accuracy: 0.9850 - loss: 0.0417 - val_accuracy: 0.9918 - val_loss: 0.0264\n",
      "Epoch 7/10\n",
      "\u001b[1m337/337\u001b[0m \u001b[32m━━━━━━━━━━━━━━━━━━━━\u001b[0m\u001b[37m\u001b[0m \u001b[1m516s\u001b[0m 2s/step - accuracy: 0.9847 - loss: 0.0434 - val_accuracy: 0.9896 - val_loss: 0.0246\n",
      "Epoch 8/10\n",
      "\u001b[1m337/337\u001b[0m \u001b[32m━━━━━━━━━━━━━━━━━━━━\u001b[0m\u001b[37m\u001b[0m \u001b[1m513s\u001b[0m 2s/step - accuracy: 0.9835 - loss: 0.0452 - val_accuracy: 0.9926 - val_loss: 0.0220\n",
      "Epoch 9/10\n",
      "\u001b[1m337/337\u001b[0m \u001b[32m━━━━━━━━━━━━━━━━━━━━\u001b[0m\u001b[37m\u001b[0m \u001b[1m514s\u001b[0m 2s/step - accuracy: 0.9865 - loss: 0.0360 - val_accuracy: 0.9926 - val_loss: 0.0181\n",
      "Epoch 10/10\n",
      "\u001b[1m337/337\u001b[0m \u001b[32m━━━━━━━━━━━━━━━━━━━━\u001b[0m\u001b[37m\u001b[0m \u001b[1m514s\u001b[0m 2s/step - accuracy: 0.9884 - loss: 0.0305 - val_accuracy: 0.9918 - val_loss: 0.0199\n",
      "\u001b[1m43/43\u001b[0m \u001b[32m━━━━━━━━━━━━━━━━━━━━\u001b[0m\u001b[37m\u001b[0m \u001b[1m31s\u001b[0m 716ms/step - accuracy: 0.9900 - loss: 0.0208\n",
      "\u001b[1m43/43\u001b[0m \u001b[32m━━━━━━━━━━━━━━━━━━━━\u001b[0m\u001b[37m\u001b[0m \u001b[1m30s\u001b[0m 715ms/step - accuracy: 0.9960 - loss: 0.0130\n",
      "AlexNet - Validation Loss: 0.019937103614211082, Validation Accuracy: 0.9918215870857239\n",
      "AlexNet - Test Loss: 0.03426196798682213, Test Accuracy: 0.9829376935958862\n"
     ]
    }
   ],
   "source": [
    "from tensorflow.keras.layers import Conv2D, MaxPooling2D, Dropout\n",
    "\n",
    "# Function to create AlexNet model\n",
    "def create_alexnet(input_shape=(224, 224, 3), num_classes=2):\n",
    "    model = tf.keras.Sequential([\n",
    "        Conv2D(96, (11, 11), strides=4, activation='relu', input_shape=input_shape),\n",
    "        MaxPooling2D((3, 3), strides=2),\n",
    "        Conv2D(256, (5, 5), padding='same', activation='relu'),\n",
    "        MaxPooling2D((3, 3), strides=2),\n",
    "        Conv2D(384, (3, 3), padding='same', activation='relu'),\n",
    "        Conv2D(384, (3, 3), padding='same', activation='relu'),\n",
    "        Conv2D(256, (3, 3), padding='same', activation='relu'),\n",
    "        MaxPooling2D((3, 3), strides=2),\n",
    "        Flatten(),\n",
    "        Dense(4096, activation='relu'),\n",
    "        Dropout(0.5),\n",
    "        Dense(4096, activation='relu'),\n",
    "        Dropout(0.5),\n",
    "        Dense(num_classes, activation='softmax')\n",
    "    ])\n",
    "    model.compile(optimizer=Adam(learning_rate=1e-4), loss='categorical_crossentropy', metrics=['accuracy'])\n",
    "    return model\n",
    "\n",
    "# Create and train the AlexNet model\n",
    "alexnet_model = create_alexnet()\n",
    "alexnet_history = alexnet_model.fit(train_generator_cat, epochs=10, validation_data=val_generator_cat)\n",
    "alexnet_val_loss, alexnet_val_acc = alexnet_model.evaluate(val_generator_cat)\n",
    "alexnet_test_loss, alexnet_test_acc = alexnet_model.evaluate(test_generator_cat)\n",
    "print(f\"AlexNet - Validation Loss: {alexnet_val_loss}, Validation Accuracy: {alexnet_val_acc}\")\n",
    "print(f\"AlexNet - Test Loss: {alexnet_test_loss}, Test Accuracy: {alexnet_test_acc}\")\n",
    "\n"
   ]
  },
  {
   "cell_type": "code",
   "execution_count": 52,
   "id": "8f74c105",
   "metadata": {},
   "outputs": [],
   "source": [
    "alexnet_model.save(r'E:\\Programing\\ML\\Rail-damage-detection\\models\\v2\\alexnet_model.keras')"
   ]
  }
 ],
 "metadata": {
  "kernelspec": {
   "display_name": "Python 3 (ipykernel)",
   "language": "python",
   "name": "python3"
  },
  "language_info": {
   "codemirror_mode": {
    "name": "ipython",
    "version": 3
   },
   "file_extension": ".py",
   "mimetype": "text/x-python",
   "name": "python",
   "nbconvert_exporter": "python",
   "pygments_lexer": "ipython3",
   "version": "3.9.9"
  }
 },
 "nbformat": 4,
 "nbformat_minor": 5
}
