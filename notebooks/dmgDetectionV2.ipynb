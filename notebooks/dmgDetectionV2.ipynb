{
 "cells": [
  {
   "cell_type": "markdown",
   "metadata": {},
   "source": [
    "### Data Augmentation"
   ]
  },
  {
   "cell_type": "code",
   "execution_count": 12,
   "metadata": {},
   "outputs": [],
   "source": [
    "import tensorflow as tf\n",
    "from tensorflow.keras.preprocessing.image import ImageDataGenerator, img_to_array, load_img\n",
    "import os"
   ]
  },
  {
   "cell_type": "code",
   "execution_count": 13,
   "metadata": {},
   "outputs": [],
   "source": [
    "datagen = ImageDataGenerator(\n",
    "    rotation_range=20,\n",
    "    horizontal_flip=True,\n",
    "    vertical_flip=True,\n",
    "    fill_mode='nearest',\n",
    "    preprocessing_function=lambda x: tf.image.rgb_to_grayscale(x)\n",
    ")"
   ]
  },
  {
   "cell_type": "code",
   "execution_count": 14,
   "metadata": {},
   "outputs": [
    {
     "name": "stdout",
     "output_type": "stream",
     "text": [
      "Augmentation completed\n"
     ]
    }
   ],
   "source": [
    "# Directory with original images\n",
    "original_dir = r'E:\\Programing\\ML\\Rail-damage-detection\\dataset\\v2\\non-defective\\tobeaug'\n",
    "\n",
    "# Directory to save augmented images\n",
    "augmented_dir = r'E:\\Programing\\ML\\Rail-damage-detection\\dataset\\v2\\non-defective\\augdata'\n",
    "os.makedirs(augmented_dir, exist_ok=True)\n",
    "\n",
    "# Number of augmentations per image\n",
    "augmentations_per_image = 8\n",
    "\n",
    "# Loop over all images in the original directory\n",
    "for img_name in os.listdir(original_dir):\n",
    "    if img_name.endswith('.jpg') or img_name.endswith('.png'):\n",
    "        img_path = os.path.join(original_dir, img_name)\n",
    "        img = load_img(img_path)\n",
    "        x = img_to_array(img)\n",
    "        x = x.reshape((1,) + x.shape)\n",
    "        \n",
    "        # Generate augmented images and save them\n",
    "        i = 0\n",
    "        for batch in datagen.flow(x, batch_size=1, save_to_dir=augmented_dir, save_prefix=img_name.split('.')[0], save_format='jpeg'):\n",
    "            i += 1\n",
    "            if i >= augmentations_per_image:\n",
    "                break  \n",
    "\n",
    "print(\"Augmentation completed\")"
   ]
  },
  {
   "cell_type": "code",
   "execution_count": null,
   "metadata": {},
   "outputs": [],
   "source": []
  }
 ],
 "metadata": {
  "kernelspec": {
   "display_name": "Python 3 (ipykernel)",
   "language": "python",
   "name": "python3"
  },
  "language_info": {
   "codemirror_mode": {
    "name": "ipython",
    "version": 3
   },
   "file_extension": ".py",
   "mimetype": "text/x-python",
   "name": "python",
   "nbconvert_exporter": "python",
   "pygments_lexer": "ipython3",
   "version": "3.9.9"
  }
 },
 "nbformat": 4,
 "nbformat_minor": 4
}
